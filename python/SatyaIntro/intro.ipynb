{
 "cells": [
  {
   "cell_type": "code",
   "execution_count": 8,
   "metadata": {
    "slideshow": {
     "slide_type": "skip"
    }
   },
   "outputs": [],
   "source": [
    "from IPython.display import HTML"
   ]
  },
  {
   "cell_type": "markdown",
   "metadata": {
    "slideshow": {
     "slide_type": "slide"
    }
   },
   "source": [
    "# OpenCV Applications\n",
    "\n",
    "By **Satya Mallick, LearnOpenCV.com** \n"
   ]
  },
  {
   "cell_type": "markdown",
   "metadata": {
    "slideshow": {
     "slide_type": "slide"
    }
   },
   "source": [
    "# Image Alignment & Panorama\n",
    "\n",
    "![](images/panorama.jpg)"
   ]
  },
  {
   "cell_type": "markdown",
   "metadata": {
    "slideshow": {
     "slide_type": "slide"
    }
   },
   "source": [
    "# Seamless Cloning\n",
    "![](images/obama-trump.jpg)\n",
    "    "
   ]
  },
  {
   "cell_type": "markdown",
   "metadata": {
    "slideshow": {
     "slide_type": "slide"
    }
   },
   "source": [
    "# Object Tracking"
   ]
  },
  {
   "cell_type": "code",
   "execution_count": 1,
   "metadata": {
    "slideshow": {
     "slide_type": "-"
    }
   },
   "outputs": [
    {
     "data": {
      "text/html": [
       "<video width=\"1024\" controls>\n",
       "  <source src=\"images/tracking.mp4\" type=\"video/mp4\">\n",
       "</video>"
      ],
      "text/plain": [
       "<IPython.core.display.HTML object>"
      ]
     },
     "metadata": {},
     "output_type": "display_data"
    }
   ],
   "source": [
    "%%HTML\n",
    "<video width=\"1024\" controls>\n",
    "  <source src=\"images/tracking.mp4\" type=\"video/mp4\">\n",
    "</video>"
   ]
  },
  {
   "cell_type": "markdown",
   "metadata": {
    "slideshow": {
     "slide_type": "slide"
    }
   },
   "source": [
    "# Pose Estimation : Deep Learning\n",
    "\n",
    "![](images/openpose-dance.gif)\n",
    "\n"
   ]
  },
  {
   "cell_type": "markdown",
   "metadata": {
    "slideshow": {
     "slide_type": "slide"
    }
   },
   "source": [
    "# Object Detection : Deep Learning \n",
    "\n",
    "![](images/object-detection.jpg)"
   ]
  },
  {
   "cell_type": "markdown",
   "metadata": {
    "slideshow": {
     "slide_type": "slide"
    }
   },
   "source": [
    "\n",
    "# High Dynamic Range Imaging\n",
    "\n",
    "![](images/hdr.jpg)"
   ]
  },
  {
   "cell_type": "markdown",
   "metadata": {
    "slideshow": {
     "slide_type": "slide"
    }
   },
   "source": [
    "# About Me\n",
    "\n",
    "Trust me, I am a **Doctor** \n",
    " * 2001 - 2006, Ph.D. University of California, San Diego. \n",
    "\n",
    "And an **Entrepreneur**\n",
    " * 2007 - 2015, Co-Founder / CTO, Sight Commerce Inc. \n",
    " * 2015 - Present, Partner Big Vision LLC. \n",
    " \n",
    "And a **Blogger**\n",
    " * 2015 - Present,  @LearnOpenCV.com"
   ]
  },
  {
   "cell_type": "markdown",
   "metadata": {
    "slideshow": {
     "slide_type": "slide"
    }
   },
   "source": [
    "![Blogger Joke](images/blogger-joke.jpg)"
   ]
  },
  {
   "cell_type": "markdown",
   "metadata": {
    "slideshow": {
     "slide_type": "slide"
    }
   },
   "source": [
    "# Sight Commerce Inc.\n",
    "\n",
    "\n",
    "![Virtual Makeover](images/virtual-makeover.jpg)"
   ]
  },
  {
   "cell_type": "markdown",
   "metadata": {
    "slideshow": {
     "slide_type": "slide"
    }
   },
   "source": [
    "# Sight Commerce Inc.\n",
    "\n",
    "![Virtual Makeover](images/virtual-hairstyle.jpg)"
   ]
  },
  {
   "cell_type": "markdown",
   "metadata": {
    "slideshow": {
     "slide_type": "slide"
    }
   },
   "source": [
    "# Sight Commerce Inc.\n",
    "\n",
    "![Virtual Makeover](images/virtual-sunglasses.jpg)"
   ]
  },
  {
   "cell_type": "markdown",
   "metadata": {
    "slideshow": {
     "slide_type": "slide"
    }
   },
   "source": [
    "# Sight Commerce Inc.\n",
    "\n",
    "![Virtual Makeover](images/virtual-jewelry.jpg)"
   ]
  },
  {
   "cell_type": "markdown",
   "metadata": {
    "slideshow": {
     "slide_type": "slide"
    }
   },
   "source": [
    "# Big Vision LLC : Consulting\n",
    "\n",
    "1. **Document analysis**\n",
    " * Digital ID tamper detection\n",
    " * Document alignment\n",
    " * OCR \n",
    "2. **Fashion**\n",
    " * Visual search\n",
    " * Counterfeit detection\n",
    "3. **Security**\n",
    " * Intrusion detector\n",
    " * Face recognition\n",
    " * Drone application\n",
    "4. **Medical** \n",
    " * Auto refractor\n",
    " * Tissue analysis \n",
    " * Parasite counting in horse feces"
   ]
  },
  {
   "cell_type": "markdown",
   "metadata": {
    "slideshow": {
     "slide_type": "slide"
    }
   },
   "source": [
    "# LearnOpenCV.com \n",
    "\n",
    "\n",
    "**Course** : Computer Vision for Faces ( [http://cv4faces.com](http://cv4faces.com) )\n",
    "\n",
    "\n",
    "![](images/cv4faces-oscon.jpg)"
   ]
  },
  {
   "cell_type": "code",
   "execution_count": null,
   "metadata": {},
   "outputs": [],
   "source": []
  }
 ],
 "metadata": {
  "celltoolbar": "Slideshow",
  "kernelspec": {
   "display_name": "Python 3",
   "language": "python",
   "name": "python3"
  },
  "language_info": {
   "codemirror_mode": {
    "name": "ipython",
    "version": 3
   },
   "file_extension": ".py",
   "mimetype": "text/x-python",
   "name": "python",
   "nbconvert_exporter": "python",
   "pygments_lexer": "ipython3",
   "version": "3.7.0"
  }
 },
 "nbformat": 4,
 "nbformat_minor": 2
}
